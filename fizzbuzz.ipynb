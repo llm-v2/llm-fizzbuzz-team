{
 "cells": [
  {
   "cell_type": "markdown",
   "id": "722f3cfd-95da-424b-a69a-8b033f8e74f8",
   "metadata": {},
   "source": [
    "## Fizzbuzz with list comprehension\n",
    "\n",
    "list comprehension은 사랑입니다.\n",
    "\n",
    "$y = ax + b$"
   ]
  },
  {
   "cell_type": "code",
   "execution_count": 3,
   "id": "53a58f7a-2454-484e-a508-b73adabe4792",
   "metadata": {},
   "outputs": [
    {
     "data": {
      "text/plain": [
       "[1,\n",
       " 2,\n",
       " 'fizz',\n",
       " 4,\n",
       " 'buzz',\n",
       " 'fizz',\n",
       " 7,\n",
       " 8,\n",
       " 'fizz',\n",
       " 'buzz',\n",
       " 11,\n",
       " 'fizz',\n",
       " 13,\n",
       " 14,\n",
       " 'fizzbuzz',\n",
       " 16,\n",
       " 17,\n",
       " 'fizz',\n",
       " 19,\n",
       " 'buzz']"
      ]
     },
     "execution_count": 3,
     "metadata": {},
     "output_type": "execute_result"
    }
   ],
   "source": [
    "[\n",
    "    'fizzbuzz' if i%15==0 else\n",
    "    'fizz' if i%3==0 else\n",
    "    'buzz' if i%5==0 else\n",
    "    i for i in range(1,20+1)\n",
    "]"
   ]
  }
 ],
 "metadata": {
  "kernelspec": {
   "display_name": "Python 3 (ipykernel)",
   "language": "python",
   "name": "python3"
  },
  "language_info": {
   "codemirror_mode": {
    "name": "ipython",
    "version": 3
   },
   "file_extension": ".py",
   "mimetype": "text/x-python",
   "name": "python",
   "nbconvert_exporter": "python",
   "pygments_lexer": "ipython3",
   "version": "3.11.5"
  }
 },
 "nbformat": 4,
 "nbformat_minor": 5
}
